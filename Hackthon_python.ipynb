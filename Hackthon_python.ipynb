{
  "nbformat": 4,
  "nbformat_minor": 0,
  "metadata": {
    "colab": {
      "provenance": []
    },
    "kernelspec": {
      "name": "python3",
      "display_name": "Python 3"
    },
    "language_info": {
      "name": "python"
    }
  },
  "cells": [
    {
      "cell_type": "code",
      "source": [
        "import numpy as np"
      ],
      "metadata": {
        "id": "QYmky7Y2fr9W"
      },
      "execution_count": 2,
      "outputs": []
    },
    {
      "cell_type": "code",
      "source": [
        "import pandas as pd"
      ],
      "metadata": {
        "id": "qFEHdZGaAR_R"
      },
      "execution_count": 1,
      "outputs": []
    },
    {
      "cell_type": "markdown",
      "source": [
        "**Functions & Fibonacci Sequence**"
      ],
      "metadata": {
        "id": "redyeZh0e3Ks"
      }
    },
    {
      "cell_type": "code",
      "source": [
        "def fibonacci(n):\n",
        "  \"\"\"\n",
        "  This function generates the Fibonacci sequence up to a specified term n.\n",
        "\n",
        "  Args:\n",
        "      n: An integer representing the number of terms in the Fibonacci sequence.\n",
        "\n",
        "  Returns:\n",
        "      A list containing the first n terms of the Fibonacci sequence.\n",
        "  \"\"\"\n",
        "  if n <= 1:\n",
        "    return n\n",
        "  else:\n",
        "    return fibonacci(n-1) + fibonacci(n-2)\n",
        "\n",
        "# Get user input for the number of terms\n",
        "n = int(input(\"Enter the number of terms in the Fibonacci sequence: \"))\n",
        "\n",
        "# Generate the Fibonacci sequence\n",
        "fibonacci_sequence = [fibonacci(i) for i in range(n)]\n",
        "\n",
        "# Print the generated Fibonacci sequence\n",
        "print(\"Fibonacci sequence:\", fibonacci_sequence)\n"
      ],
      "metadata": {
        "colab": {
          "base_uri": "https://localhost:8080/"
        },
        "id": "OEZYuvv7HLhm",
        "outputId": "9e858a47-3c17-40b7-fcc3-f314d55e0201"
      },
      "execution_count": 8,
      "outputs": [
        {
          "output_type": "stream",
          "name": "stdout",
          "text": [
            "Enter the number of terms in the Fibonacci sequence: 6\n",
            "Fibonacci sequence: [0, 1, 1, 2, 3, 5]\n"
          ]
        }
      ]
    },
    {
      "cell_type": "markdown",
      "source": [
        "**Python Conditional Statements**"
      ],
      "metadata": {
        "id": "DUvJzoUcfBWo"
      }
    },
    {
      "cell_type": "code",
      "source": [
        "age = int(input(\"Enter your age: \"))\n",
        "\n",
        "if age >= 18:\n",
        "  print(\"You are eligible to vote\")\n",
        "else:\n",
        "  print(\"You are not eligible to vote\")\n"
      ],
      "metadata": {
        "colab": {
          "base_uri": "https://localhost:8080/"
        },
        "id": "sBCxciAyHFMg",
        "outputId": "aac47c36-730b-4628-9851-827ee105df33"
      },
      "execution_count": 7,
      "outputs": [
        {
          "output_type": "stream",
          "name": "stdout",
          "text": [
            "Enter your age: 32\n",
            "You are eligible to vote\n"
          ]
        }
      ]
    }
  ]
}